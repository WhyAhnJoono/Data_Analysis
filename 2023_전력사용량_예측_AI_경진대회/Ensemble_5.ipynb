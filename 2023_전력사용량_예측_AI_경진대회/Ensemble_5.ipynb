{
 "cells": [
  {
   "cell_type": "markdown",
   "id": "e08b9a9b",
   "metadata": {},
   "source": [
    "여러 모델로 만든 결과 불러와서 앙상블 수행"
   ]
  },
  {
   "cell_type": "code",
   "execution_count": 1,
   "id": "c95afd1f",
   "metadata": {
    "ExecuteTime": {
     "end_time": "2023-08-21T07:54:40.449184Z",
     "start_time": "2023-08-21T07:54:40.289800Z"
    }
   },
   "outputs": [],
   "source": [
    "import pandas as pd"
   ]
  },
  {
   "cell_type": "code",
   "execution_count": 2,
   "id": "95eb49d0",
   "metadata": {
    "ExecuteTime": {
     "end_time": "2023-08-21T07:54:40.548694Z",
     "start_time": "2023-08-21T07:54:40.529327Z"
    }
   },
   "outputs": [],
   "source": [
    "sample_submission = pd.read_csv('./dataset/sample_submission.csv', encoding='utf-8')\n",
    "RandomForest_4 = pd.read_csv('./submission/RandomForest_4.csv', encoding='utf-8')\n",
    "RandomForest_5 = pd.read_csv('./submission/RandomForest_5.csv', encoding='utf-8')"
   ]
  },
  {
   "cell_type": "code",
   "execution_count": 4,
   "id": "23ee55f2",
   "metadata": {
    "ExecuteTime": {
     "end_time": "2023-08-21T07:55:28.942882Z",
     "start_time": "2023-08-21T07:55:28.936957Z"
    }
   },
   "outputs": [
    {
     "data": {
      "text/plain": [
       "0        2040.6072\n",
       "1        2118.2456\n",
       "2        1992.5488\n",
       "3        1980.0000\n",
       "4        1986.5480\n",
       "           ...    \n",
       "16795     868.8128\n",
       "16796     706.4980\n",
       "16797     723.1020\n",
       "16798     655.5208\n",
       "16799     490.1364\n",
       "Name: answer, Length: 16800, dtype: float64"
      ]
     },
     "execution_count": 4,
     "metadata": {},
     "output_type": "execute_result"
    }
   ],
   "source": [
    "ensemble_result = (RandomForest_4['answer'] + RandomForest_5['answer']) / 2\n",
    "ensemble_result"
   ]
  },
  {
   "cell_type": "code",
   "execution_count": 5,
   "id": "5270ad2f",
   "metadata": {
    "ExecuteTime": {
     "end_time": "2023-08-21T07:55:31.648586Z",
     "start_time": "2023-08-21T07:55:31.640805Z"
    }
   },
   "outputs": [
    {
     "data": {
      "text/html": [
       "<div>\n",
       "<style scoped>\n",
       "    .dataframe tbody tr th:only-of-type {\n",
       "        vertical-align: middle;\n",
       "    }\n",
       "\n",
       "    .dataframe tbody tr th {\n",
       "        vertical-align: top;\n",
       "    }\n",
       "\n",
       "    .dataframe thead th {\n",
       "        text-align: right;\n",
       "    }\n",
       "</style>\n",
       "<table border=\"1\" class=\"dataframe\">\n",
       "  <thead>\n",
       "    <tr style=\"text-align: right;\">\n",
       "      <th></th>\n",
       "      <th>num_date_time</th>\n",
       "      <th>answer</th>\n",
       "    </tr>\n",
       "  </thead>\n",
       "  <tbody>\n",
       "    <tr>\n",
       "      <th>0</th>\n",
       "      <td>1_20220825 00</td>\n",
       "      <td>2040.6072</td>\n",
       "    </tr>\n",
       "    <tr>\n",
       "      <th>1</th>\n",
       "      <td>1_20220825 01</td>\n",
       "      <td>2118.2456</td>\n",
       "    </tr>\n",
       "    <tr>\n",
       "      <th>2</th>\n",
       "      <td>1_20220825 02</td>\n",
       "      <td>1992.5488</td>\n",
       "    </tr>\n",
       "    <tr>\n",
       "      <th>3</th>\n",
       "      <td>1_20220825 03</td>\n",
       "      <td>1980.0000</td>\n",
       "    </tr>\n",
       "    <tr>\n",
       "      <th>4</th>\n",
       "      <td>1_20220825 04</td>\n",
       "      <td>1986.5480</td>\n",
       "    </tr>\n",
       "  </tbody>\n",
       "</table>\n",
       "</div>"
      ],
      "text/plain": [
       "   num_date_time     answer\n",
       "0  1_20220825 00  2040.6072\n",
       "1  1_20220825 01  2118.2456\n",
       "2  1_20220825 02  1992.5488\n",
       "3  1_20220825 03  1980.0000\n",
       "4  1_20220825 04  1986.5480"
      ]
     },
     "execution_count": 5,
     "metadata": {},
     "output_type": "execute_result"
    }
   ],
   "source": [
    "sample_submission['answer'] = ensemble_result\n",
    "sample_submission.head()"
   ]
  },
  {
   "cell_type": "code",
   "execution_count": 6,
   "id": "3fd512aa",
   "metadata": {
    "ExecuteTime": {
     "end_time": "2023-08-21T07:55:34.523144Z",
     "start_time": "2023-08-21T07:55:34.498363Z"
    }
   },
   "outputs": [],
   "source": [
    "sample_submission.to_csv('./submission/Ensemble_4.csv', index=False)"
   ]
  },
  {
   "cell_type": "code",
   "execution_count": null,
   "id": "e7044000",
   "metadata": {},
   "outputs": [],
   "source": []
  }
 ],
 "metadata": {
  "kernelspec": {
   "display_name": "Python 3 (ipykernel)",
   "language": "python",
   "name": "python3"
  },
  "language_info": {
   "codemirror_mode": {
    "name": "ipython",
    "version": 3
   },
   "file_extension": ".py",
   "mimetype": "text/x-python",
   "name": "python",
   "nbconvert_exporter": "python",
   "pygments_lexer": "ipython3",
   "version": "3.11.5"
  },
  "toc": {
   "base_numbering": 1,
   "nav_menu": {},
   "number_sections": true,
   "sideBar": true,
   "skip_h1_title": false,
   "title_cell": "Table of Contents",
   "title_sidebar": "Contents",
   "toc_cell": false,
   "toc_position": {},
   "toc_section_display": true,
   "toc_window_display": false
  }
 },
 "nbformat": 4,
 "nbformat_minor": 5
}
