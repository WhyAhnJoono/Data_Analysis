{
 "cells": [
  {
   "cell_type": "markdown",
   "id": "e08b9a9b",
   "metadata": {},
   "source": [
    "여러 모델로 만든 결과 불러와서 앙상블 수행"
   ]
  },
  {
   "cell_type": "code",
   "execution_count": 1,
   "id": "c95afd1f",
   "metadata": {
    "ExecuteTime": {
     "end_time": "2023-08-24T23:39:31.417836Z",
     "start_time": "2023-08-24T23:39:31.261911Z"
    }
   },
   "outputs": [],
   "source": [
    "import pandas as pd"
   ]
  },
  {
   "cell_type": "code",
   "execution_count": 2,
   "id": "95eb49d0",
   "metadata": {
    "ExecuteTime": {
     "end_time": "2023-08-24T23:39:31.967935Z",
     "start_time": "2023-08-24T23:39:31.949440Z"
    }
   },
   "outputs": [],
   "source": [
    "sample_submission = pd.read_csv('./dataset/sample_submission.csv', encoding='utf-8')\n",
    "Ensemble_5 = pd.read_csv('./submission/Ensemble_5.csv', encoding='utf-8')\n",
    "mljar_autoML_4 = pd.read_csv('./submission/mljar_autoML_4.csv', encoding='utf-8')"
   ]
  },
  {
   "cell_type": "code",
   "execution_count": 3,
   "id": "23ee55f2",
   "metadata": {
    "ExecuteTime": {
     "end_time": "2023-08-24T23:39:38.973446Z",
     "start_time": "2023-08-24T23:39:38.957578Z"
    }
   },
   "outputs": [
    {
     "data": {
      "text/plain": [
       "0        2139.710317\n",
       "1        2147.781367\n",
       "2        2012.725667\n",
       "3        1918.552017\n",
       "4        1895.617900\n",
       "            ...     \n",
       "16795     967.083227\n",
       "16796     856.412747\n",
       "16797     771.812708\n",
       "16798     672.305067\n",
       "16799     494.980083\n",
       "Name: answer, Length: 16800, dtype: float64"
      ]
     },
     "execution_count": 3,
     "metadata": {},
     "output_type": "execute_result"
    }
   ],
   "source": [
    "ensemble_result = (Ensemble_5['answer'] + mljar_autoML_4['answer']) / 2\n",
    "ensemble_result"
   ]
  },
  {
   "cell_type": "code",
   "execution_count": 4,
   "id": "5270ad2f",
   "metadata": {
    "ExecuteTime": {
     "end_time": "2023-08-24T23:39:39.194176Z",
     "start_time": "2023-08-24T23:39:39.180971Z"
    }
   },
   "outputs": [
    {
     "data": {
      "text/html": [
       "<div>\n",
       "<style scoped>\n",
       "    .dataframe tbody tr th:only-of-type {\n",
       "        vertical-align: middle;\n",
       "    }\n",
       "\n",
       "    .dataframe tbody tr th {\n",
       "        vertical-align: top;\n",
       "    }\n",
       "\n",
       "    .dataframe thead th {\n",
       "        text-align: right;\n",
       "    }\n",
       "</style>\n",
       "<table border=\"1\" class=\"dataframe\">\n",
       "  <thead>\n",
       "    <tr style=\"text-align: right;\">\n",
       "      <th></th>\n",
       "      <th>num_date_time</th>\n",
       "      <th>answer</th>\n",
       "    </tr>\n",
       "  </thead>\n",
       "  <tbody>\n",
       "    <tr>\n",
       "      <th>0</th>\n",
       "      <td>1_20220825 00</td>\n",
       "      <td>2139.710317</td>\n",
       "    </tr>\n",
       "    <tr>\n",
       "      <th>1</th>\n",
       "      <td>1_20220825 01</td>\n",
       "      <td>2147.781367</td>\n",
       "    </tr>\n",
       "    <tr>\n",
       "      <th>2</th>\n",
       "      <td>1_20220825 02</td>\n",
       "      <td>2012.725667</td>\n",
       "    </tr>\n",
       "    <tr>\n",
       "      <th>3</th>\n",
       "      <td>1_20220825 03</td>\n",
       "      <td>1918.552017</td>\n",
       "    </tr>\n",
       "    <tr>\n",
       "      <th>4</th>\n",
       "      <td>1_20220825 04</td>\n",
       "      <td>1895.617900</td>\n",
       "    </tr>\n",
       "  </tbody>\n",
       "</table>\n",
       "</div>"
      ],
      "text/plain": [
       "   num_date_time       answer\n",
       "0  1_20220825 00  2139.710317\n",
       "1  1_20220825 01  2147.781367\n",
       "2  1_20220825 02  2012.725667\n",
       "3  1_20220825 03  1918.552017\n",
       "4  1_20220825 04  1895.617900"
      ]
     },
     "execution_count": 4,
     "metadata": {},
     "output_type": "execute_result"
    }
   ],
   "source": [
    "sample_submission['answer'] = ensemble_result\n",
    "sample_submission.head()"
   ]
  },
  {
   "cell_type": "code",
   "execution_count": 5,
   "id": "3fd512aa",
   "metadata": {
    "ExecuteTime": {
     "end_time": "2023-08-24T23:40:01.987224Z",
     "start_time": "2023-08-24T23:40:01.956904Z"
    }
   },
   "outputs": [],
   "source": [
    "sample_submission.to_csv('./submission/Ensemble_6.csv', index=False)"
   ]
  },
  {
   "cell_type": "code",
   "execution_count": null,
   "id": "e7044000",
   "metadata": {},
   "outputs": [],
   "source": []
  }
 ],
 "metadata": {
  "kernelspec": {
   "display_name": "Python 3 (ipykernel)",
   "language": "python",
   "name": "python3"
  },
  "language_info": {
   "codemirror_mode": {
    "name": "ipython",
    "version": 3
   },
   "file_extension": ".py",
   "mimetype": "text/x-python",
   "name": "python",
   "nbconvert_exporter": "python",
   "pygments_lexer": "ipython3",
   "version": "3.11.5"
  },
  "toc": {
   "base_numbering": 1,
   "nav_menu": {},
   "number_sections": true,
   "sideBar": true,
   "skip_h1_title": false,
   "title_cell": "Table of Contents",
   "title_sidebar": "Contents",
   "toc_cell": false,
   "toc_position": {},
   "toc_section_display": true,
   "toc_window_display": false
  }
 },
 "nbformat": 4,
 "nbformat_minor": 5
}
